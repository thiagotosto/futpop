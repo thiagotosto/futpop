{
 "cells": [
  {
   "cell_type": "code",
   "execution_count": 4,
   "metadata": {},
   "outputs": [],
   "source": [
    "#!/Users/thiagotosto/.local/share/virtualenvs/futpop-a3O5RkTF/bin/python\n",
    "\n",
    "activate_this = \"/Users/thiagotosto/.local/share/virtualenvs/futpop-a3O5RkTF/bin/activate_this.py\"\n",
    "with open(activate_this) as f:\n",
    "        code = compile(f.read(), activate_this, 'exec')\n",
    "        exec(code, dict(__file__=activate_this))"
   ]
  },
  {
   "cell_type": "code",
   "execution_count": 5,
   "metadata": {},
   "outputs": [],
   "source": [
    "from pyflink.datastream import StreamExecutionEnvironment\n",
    "from pyflink.table import StreamTableEnvironment, EnvironmentSettings\n",
    "#from enjoyment.cdn.cdn_udf import ip_to_province\n",
    "#from enjoyment.cdn.cdn_connector_ddl import kafka_source_ddl, mysql_sink_ddl"
   ]
  },
  {
   "cell_type": "code",
   "execution_count": 6,
   "metadata": {},
   "outputs": [],
   "source": [
    "env = StreamExecutionEnvironment.get_execution_environment()"
   ]
  },
  {
   "cell_type": "code",
   "execution_count": 7,
   "metadata": {},
   "outputs": [
    {
     "data": {
      "text/plain": [
       "<pyflink.datastream.stream_execution_environment.StreamExecutionEnvironment at 0x7fe0dc58fe80>"
      ]
     },
     "execution_count": 7,
     "metadata": {},
     "output_type": "execute_result"
    }
   ],
   "source": [
    "env"
   ]
  },
  {
   "cell_type": "code",
   "execution_count": 4,
   "metadata": {},
   "outputs": [
    {
     "name": "stdout",
     "output_type": "stream",
     "text": [
      "Python 3.7.9\r\n"
     ]
    }
   ],
   "source": [
    "!python --version"
   ]
  },
  {
   "cell_type": "code",
   "execution_count": null,
   "metadata": {},
   "outputs": [],
   "source": [
    "import os\n",
    "\n",
    "from pyflink.datastream import StreamExecutionEnvironment\n",
    "from pyflink.table import StreamTableEnvironment, EnvironmentSettings\n",
    "from enjoyment.cdn.cdn_udf import ip_to_province\n",
    "from enjoyment.cdn.cdn_connector_ddl import kafka_source_ddl, mysql_sink_ddl\n",
    "\n",
    "# 创建Table Environment， 并选择使用的Planner\n",
    "env = StreamExecutionEnvironment.get_execution_environment()\n",
    "t_env = StreamTableEnvironment.create(\n",
    "   env,\n",
    "   environment_settings=EnvironmentSettings.new_instance().use_blink_planner().build())\n",
    "\n",
    "# 创建Kafka数据源表\n",
    "t_env.sql_update(kafka_source_ddl)\n",
    "# 创建MySql结果表\n",
    "t_env.sql_update(mysql_sink_ddl)\n",
    "\n",
    "# 注册IP转换地区名称的UDF\n",
    "t_env.register_function(\"ip_to_province\", ip_to_province)\n",
    "\n",
    "# 添加依赖的Python文件\n",
    "t_env.add_Python_file(\n",
    "    os.path.dirname(os.path.abspath(__file__)) + \"/enjoyment/cdn/cdn_udf.py\")\n",
    "t_env.add_Python_file(os.path.dirname(\n",
    "    os.path.abspath(__file__)) + \"/enjoyment/cdn/cdn_connector_ddl.py\")\n",
    "\n",
    "# 核心的统计逻辑\n",
    "t_env.from_path(\"cdn_access_log\")\\\n",
    "   .select(\"uuid, \"\n",
    "           \"ip_to_province(client_ip) as province, \" # IP 转换为地区名称\n",
    "           \"response_size, request_time\")\\\n",
    "   .group_by(\"province\")\\\n",
    "   .select( # 计算访问量\n",
    "           \"province, count(uuid) as access_count, \" \n",
    "           # 计算下载总量 \n",
    "           \"sum(response_size) as total_download,  \" \n",
    "           # 计算下载速度\n",
    "           \"sum(response_size) * 1.0 / sum(request_time) as download_speed\") \\\n",
    "   .insert_into(\"cdn_access_statistic\")\n",
    "\n",
    "# 执行作业\n",
    "t_env.execute(\"pyFlink_parse_cdn_log\")\n"
   ]
  }
 ],
 "metadata": {
  "kernelspec": {
   "display_name": "Python 3",
   "language": "python",
   "name": "python3"
  },
  "language_info": {
   "codemirror_mode": {
    "name": "ipython",
    "version": 3
   },
   "file_extension": ".py",
   "mimetype": "text/x-python",
   "name": "python",
   "nbconvert_exporter": "python",
   "pygments_lexer": "ipython3",
   "version": "3.9.0"
  }
 },
 "nbformat": 4,
 "nbformat_minor": 4
}
